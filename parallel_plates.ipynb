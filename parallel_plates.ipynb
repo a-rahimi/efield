{
 "cells": [
  {
   "cell_type": "code",
   "execution_count": 77,
   "metadata": {},
   "outputs": [
    {
     "ename": "",
     "evalue": "",
     "output_type": "error",
     "traceback": [
      "\u001b[1;31mThe Kernel crashed while executing code in the current cell or a previous cell. \n",
      "\u001b[1;31mPlease review the code in the cell(s) to identify a possible cause of the failure. \n",
      "\u001b[1;31mClick <a href='https://aka.ms/vscodeJupyterKernelCrash'>here</a> for more info. \n",
      "\u001b[1;31mView Jupyter <a href='command:jupyter.viewOutput'>log</a> for further details."
     ]
    }
   ],
   "source": [
    "%matplotlib widget\n",
    "import matplotlib.pyplot as plt\n",
    "\n",
    "import torch\n",
    "\n",
    "import efield\n",
    "\n",
    "from importlib import reload; reload(efield)\n",
    "\n",
    "def parallel_plates():\n",
    "    electrode1_locations3d = efield.grid_box3d(\n",
    "        torch.linspace(-1, 1, 20), torch.linspace(-1, 1, 20), torch.linspace(-1, -1.1, 2)\n",
    "    )\n",
    "\n",
    "    electrode2_locations3d = efield.grid_box3d(\n",
    "        torch.linspace(-1, 1, 20), torch.linspace(-1, 1, 20), torch.linspace(1, 1.1, 2)\n",
    "    )\n",
    "\n",
    "    test_locations3d = efield.grid_box3d(\n",
    "        torch.linspace(-2, 2, 100), torch.linspace(-2, 2, 100), torch.linspace(-2, 2, 100)\n",
    "    )\n",
    "\n",
    "    conductor_locations3d = torch.vstack((electrode1_locations3d, electrode2_locations3d))\n",
    "\n",
    "    conductor_potentials = torch.tensor([0] * len(electrode1_locations3d) + [1]*len(electrode2_locations3d))\n",
    "\n",
    "    potential = efield.potential_function(test_locations3d, conductor_locations3d, conductor_potentials)\n",
    "\n",
    "    fig = plt.figure(figsize=(5, 5))\n",
    "    ax = fig.add_subplot(111, projection='3d')\n",
    "\n",
    "    ax.scatter(electrode1_locations3d[:,0], electrode1_locations3d[:,1], electrode1_locations3d[:,2], s=50,color=\"g\")\n",
    "    ax.scatter(electrode2_locations3d[:,0], electrode2_locations3d[:,1], electrode2_locations3d[:,2], s=50,color=\"b\")\n",
    "\n",
    "\n",
    "parallel_plates()"
   ]
  }
 ],
 "metadata": {
  "kernelspec": {
   "display_name": "Python 3",
   "language": "python",
   "name": "python3"
  },
  "language_info": {
   "codemirror_mode": {
    "name": "ipython",
    "version": 3
   },
   "file_extension": ".py",
   "mimetype": "text/x-python",
   "name": "python",
   "nbconvert_exporter": "python",
   "pygments_lexer": "ipython3",
   "version": "3.11.3"
  }
 },
 "nbformat": 4,
 "nbformat_minor": 2
}
